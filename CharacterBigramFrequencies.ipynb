{
 "cells": [
  {
   "cell_type": "code",
   "execution_count": 89,
   "metadata": {
    "collapsed": true
   },
   "outputs": [],
   "source": [
    "# import libraries\n",
    "import nltk\n",
    "from bs4 import BeautifulSoup\n",
    "import requests \n",
    "import re"
   ]
  },
  {
   "cell_type": "code",
   "execution_count": 90,
   "metadata": {
    "collapsed": true
   },
   "outputs": [],
   "source": [
    "# get content from a URL and save it as a soup object\n",
    "tgturl = \"https://www.nytimes.com/2017/03/30/briefing/xi-jinping-brexit-samsung-galaxy.html\"    \n",
    "tgthtml = requests.get(tgturl).text\n",
    "tgtsoup = BeautifulSoup(tgthtml, 'html.parser')"
   ]
  },
  {
   "cell_type": "code",
   "execution_count": 102,
   "metadata": {
    "collapsed": false
   },
   "outputs": [
    {
     "name": "stdout",
     "output_type": "stream",
     "text": [
      "xi jinping brexit samsung galaxy your thursday briefing  the new york times nytimescom no longer supports internet explorer 9 or earlier please upgrade your browser learn more  sections home search skip to content skip to navigation view mobile version the new york times briefingxi jinping brexit samsung galaxy your thursday briefing search subscribe now log in 0 settings close search site search navigation search nytimescom clear this text input go httpsnytims2ncl4en loading see next articles see previous articles site navigation site mobile navigation advertisement supported by briefing xi jinping brexit samsung galaxy your thursday briefing by chris stanfordmarch 30 2017 continue reading the main story share this page continue reading the main story photo a water station in the diffa region of niger more than 200000 people have poured into the area chased from their villages by the islamist militant group boko haram credit adam ferguson for the new york times want to get this briefing by email heres the signupgood morningheres what you need to know north carolina reaches deal on bathroom lawthe states legislature will consider a measure today that would repeal the controversial law curbing legal protections for lesbian gay bisexual and transgender people photo we are pleased this proposal fully protects bathroom safety and privacy the leaders of north carolinas legislature said in a joint statement credit sara d davisgetty images the law requires transgender people in public buildings to use the bathroom that corresponds with the gender on their birth certificate it prompted boycotts by sports leagues businesses and others harming the states economy  americas growing war footprintindications are mounting that the us military is deepening its involvement in a string of conflicts in the middle east that lack clear endgames continue reading the main story advertisement continue reading the main story officials say it represents decision making that began under former president barack obama and the militarys actions give the first indications of how operations are continuing under president trump who has vowed to make the military fight to win advertisement continue reading the main story secretary of state rex tillerson has decided to lift all human rights conditions on a sale of f16 fighter jets and other arms to bahrain in an effort to end a rift with a critical middle east ally officials say chinese leader to visit maralagopresident xi jinping will meet with mr trump at the florida estate next week the foreign ministry said today confirming the leaders first summit meetingit comes as the worlds two largest emitters of greenhouse gases are poised to switch roles in the global effort to slow the effects of climate change china seems set to push the us to meet its commitments even if mr trump has signaled he has no intention of doing so advertisement continue reading the main story  a tale of two russia inquiriessenators pledged on wednesday to conduct an aggressive investigation into russian interference in the presidential election seeking to distance themselves from a similar but flagging effort in the house photo in her first speech since becoming first lady melania trump honored women who battle gender discrimination and violence around the world she presented an award to sharmin akter of bangladesh on wednesday at the state department in washington credit win mcnameegetty images  ivanka trumps new rolemr trumps daughter is becoming an unpaid adviser to her father subject to all of the same rules as other federal employees she said photo ivanka trump stepped down from her namesake branding and licensing business when her husband jared kushner joined the administration credit al dragothe new york times advertisement continue reading the main story the move comes after ethics experts criticized the fact that she had an office in the white house and was in the process of receiving a security clearance despite not working for the government bracing for the impact of brexitas prime minister theresa may officially initiated britains withdrawal from the european union on wednesday the lack of economic disaster thus far was touted by those steering the departure as a sign of little trouble ahead advertisement continue reading the main story but the reassuring talk did not reckon with one significant detail nothing has actually happened yet get the morning briefing by email what you need to know to start your day delivered to your inbox monday through friday please verify youre not a robot by clicking the box invalid email address please reenter you must select a newsletter to subscribe to sign up receive occasional updates and special offers for the new york timess products and services thank you for subscribing an error has occurred please try again later you are already subscribed to this email view all new york times newsletters see sample manage email preferences not you privacy policy  the daily your audio news reportin todays show we look at the battle over climate change through the eyes of a coal miner continue reading the main story continue reading the main story audio listen to the daily not a boogeyman not a savior why scott pruitt president trumps epa chief confounds both sides listen on your podcasts app listen on radiopublic listen on a computer an ios device or an android devicebusiness a 4 billion deal for a chinese company to invest in a manhattan office tower owned by the family of jared kushner mr trumps soninlaw fell apart advertisement continue reading the main story  samsung introduced the galaxy s8 on wednesday its first major smartphone release since the scandal over the galaxy note 7 which was known to spontaneously catch fire advertisement continue reading the main story  jpmorgan chase reduced the number of websites on which its ads appeared to 5000 a month from 400000 the bank found the decision intended to avoid proximity to fake news or offensive videos did not hurt its visibility consumers and stocks may be feeling a postelection boom but the economic data doesnt tell the same storyus stocks were mixed on wednesday heres a snapshot of global markets market snapshot view full overview smarter living is yoga a part of your morning routine here are some moves to make you strong for a halfcentury she has led the blind with chutzpah and often no cane a chileflecked honeyimbued marinade spiked with fresh citrus juice gives this sweet and spicy roast chicken its fiery character advertisement continue reading the main story noteworthy the road to nowheremore than 130000 people have amassed along a desert highway in niger chased from their villages by boko haram the islamist militant group times journalists spent weeks documenting some of their stories video the road to nowhere people seeking safety from boko haram  many of them women and children  are living along a highway in niger struggling to survive by kassie bracken veda shastri and samantha quick on publish date march 30 2017 photo by adam ferguson for the new york times technology by samsung watch in times video  embed  those indecipherable medical billsmany factors have contributed to the high cost of health care in the us but as hospitals have learned to manipulate a complex system of medical codes the result is often mindboggling advertisement continue reading the main story  some good news for elephantsivorys boom may be over its price has sunk reflecting less demand and better advocacy in memoriamwilliam powell was angry at the war in vietnam when he wrote the anarchist cookbook a guide to causing mayhem that was published in 1971 he later rejected the manifesto and his death in july has only now become more widely known he was 66 advertisement continue reading the main story ahmed kathrada spent 26 years in prison many of them alongside his close friend nelson mandela for resisting the apartheid system of white minority rule in south africa he was 87 best of latenight tvon the late show stephen colbert took issue with a congressional vote to make the sale of consumers online information easier taking the side of a cable company the only thing less popular would be if they passed a bill allowing traffic jams to call you during dinner to give you gonorrheaback storywhen russia sold alaska to the us 150 years ago today there was consternation on both sides of the pacificamerican critics railed at the principal negotiator secretary of state william seward calling the deal sewards folly and sewards icebox russian newspapers are still denouncing it photo the united states bought alaska for what at the time was roughly 2 cents an acre credit damon winterthe new york times advertisement continue reading the main story the russians sold because they judged the territory a lost cause after the crimean war with britain during the mid1850s russia determined that britain would take alaska in any future conflict advertisement continue reading the main story the transaction cost the us only 72 million  approximately 125 million today  to the delight of at least one american paperwe have made a fair trade argued the charleston daily newsthe editors continued waxing both righteous and pugnacious that while europe quarreled over eastern questions and german questions brother jonathan  a national personification and predecessor of uncle sam  can sit with sublime indifference on the top of the alleghenies and spit his tobacco into either the atlantic or pacific whittling huge california timber with a clasp knife made of iron out of his mountains and mix his cobbler with lemons grown in his own tropics and cooled with ice brought from his own arctic circleevan gershkovich contributed reporting_____photographs may appear out of order for some readers viewing this version of the briefing should helpyour morning briefing is published weekdays at 6 am eastern and updated on the web all morningwhat would you like to see here contact us at briefingnytimescom advertisement continue reading the main story you can sign up here to get the briefing delivered to your inbox correction march 30 2017 an earlier version of this briefing misstated the seat of russias government at the time it sold alaska to the united states it was st petersburg not moscow continue reading the main story were interested in your feedback on this page tell us what you think ideas ignited 50 off for 1 year for one year basic 50 off for 1 year only 375 188week basic digital access includes access to nytimescom and all nytimes apps unlimited article access anytime anywhere learn more  all access 50 off for 1 year only 625 313week includes everything in basic plus times insider access including behindthescenes stories exclusive events podcasts and ebooks 1 complimentary digital subscription to give anyone youd like learn more  home delivery all access 50 off for 1 year only 990 495week includes everything in all access plus customized delivery options such as sunday only frisun weekday delivery or daily delivery the weekly sunday magazine and monthly t magazine 2 complimentary digital subscriptions to give anyone youd like learn more  home delivery price based on sunday deliveryprices vary based on delivery location and frequency whats next loading go to home page  site index the new york times site index navigation news world us politics ny business tech science health sports education obituaries todays paper corrections opinion todays opinion oped columnists editorials contributing writers oped contributors opinionator letters sunday review taking note room for debate public editor video opinion arts todays arts art  design books dance movies music nyc events guide television theater video arts living automobiles crossword food education fashion  style health jobs magazine nyc events guide real estate t magazine travel weddings  celebrations listings  more classifieds tools  services times topics public editor nyc events guide blogs multimedia photography video nyt store times journeys subscribe manage my account subscribe subscribe home delivery digital subscriptions times insider crossword email newsletters alerts gift subscriptions corporate subscriptions education rate mobile applications replica edition site information navigation  2017 the new york times company home search accessibility concerns email us at accessibilitynytimescom we would love to hear from you contact us work with us advertise your ad choices privacy terms of service terms of sale site information navigation site map help site feedback subscriptions\n"
     ]
    }
   ],
   "source": [
    "# process webpage content to get just text\n",
    "\n",
    "# remove text in random html tags that have to do with page style\n",
    "for script in tgtsoup([\"script\", \"style\"]):\n",
    "    script.extract() \n",
    "    \n",
    "# get raw content from website (includes extra whitespace, UTF-8, etc.)\n",
    "urltxt = tgtsoup.get_text()\n",
    "\n",
    "# split text into lines, and strip additional whitespace at either end\n",
    "lines = (line.strip() for line in urltxt.splitlines())\n",
    "\n",
    "# split lines with sublines into chunks and strip whitespace\n",
    "chunks = (phrase.strip() for line in lines for phrase in line.split(\"  \"))\n",
    "\n",
    "# drop blank lines, join everything with just whitespace\n",
    "rawtxt = ' '.join(chunk for chunk in chunks if chunk)\n",
    "\n",
    "# at this point, text should have words separated by spaces, and some unicode characters\n",
    "# remove everything except the following characters: alphanumeric, whitespace, punctuation\n",
    "allowchar = '[^\\w\\s\\p]+'\n",
    "rawtxt = re.sub(allowchar, '', rawtxt)\n",
    "\n",
    "# convert everything to lowercase\n",
    "rawtxt = rawtxt.lower()\n",
    "\n",
    "# print\n",
    "print rawtxt"
   ]
  },
  {
   "cell_type": "code",
   "execution_count": 105,
   "metadata": {
    "collapsed": false
   },
   "outputs": [],
   "source": [
    "# Conditional probability table\n",
    "\n",
    "# split up the raw text into individual characters\n",
    "rawlst = list(rawtxt)\n",
    "\n",
    "# compute bigrams the rawlist.\n",
    "# from http://www.nltk.org/book/ch02.html (2.4): \n",
    "# The bigrams() function takes a list of words and builds a list of consecutive word pairs. \n",
    "bigrams = nltk.bigrams(rawlst)\n",
    "\n",
    "# uncomment to see list of bigrams\n",
    "# list(bigrams)\n",
    "\n",
    "# compute conditional frequency distribution\n",
    "cfd = nltk.ConditionalFreqDist(bigrams)\n"
   ]
  },
  {
   "cell_type": "code",
   "execution_count": 111,
   "metadata": {
    "collapsed": false
   },
   "outputs": [
    {
     "name": "stdout",
     "output_type": "stream",
     "text": [
      "   a  p  q  1  0 \n",
      "a  0 17  0  0  0 \n",
      "p 22 10  0  0  0 \n",
      "q  0  0  0  0  0 \n",
      "1  0  0  0  0  0 \n",
      "0  0  0  0  4 13 \n"
     ]
    }
   ],
   "source": [
    "# tabulating results\n",
    "# see http://www.nltk.org/book/ch02.html (2.3) and \n",
    "# https://kenmxu.wordpress.com/2013/05/02/conditional-frequency-distribution/\n",
    "\n",
    "# full table\n",
    "# cfd.tabulate()\n",
    "\n",
    "# individual transition frequencies: a followed by n\n",
    "# cfd['a']['n']\n",
    "\n",
    "# get subtables\n",
    "subentries = ['a', 'p', 'q', '1', '0']\n",
    "cfd.tabulate(conditions=subentries, samples=subentries)\n",
    "\n"
   ]
  },
  {
   "cell_type": "code",
   "execution_count": null,
   "metadata": {
    "collapsed": true
   },
   "outputs": [],
   "source": []
  }
 ],
 "metadata": {
  "kernelspec": {
   "display_name": "Python 2",
   "language": "python",
   "name": "python2"
  },
  "language_info": {
   "codemirror_mode": {
    "name": "ipython",
    "version": 2
   },
   "file_extension": ".py",
   "mimetype": "text/x-python",
   "name": "python",
   "nbconvert_exporter": "python",
   "pygments_lexer": "ipython2",
   "version": "2.7.13"
  }
 },
 "nbformat": 4,
 "nbformat_minor": 0
}
