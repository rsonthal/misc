{
 "cells": [
  {
   "cell_type": "code",
   "execution_count": 1,
   "metadata": {
    "collapsed": true
   },
   "outputs": [],
   "source": [
    "using Combinatorics"
   ]
  },
  {
   "cell_type": "code",
   "execution_count": 2,
   "metadata": {},
   "outputs": [
    {
     "data": {
      "text/plain": [
       "flipCoin (generic function with 1 method)"
      ]
     },
     "execution_count": 2,
     "metadata": {},
     "output_type": "execute_result"
    }
   ],
   "source": [
    "#This code is used to flip simulate an coin with probability p for heads\n",
    "\n",
    "function calcBit(p)\n",
    "    if 2*p >= 1\n",
    "        return 1\n",
    "    else\n",
    "        return 0\n",
    "    end\n",
    "end\n",
    "\n",
    "function flipCoin(p)\n",
    "    if p == 1\n",
    "        return 1\n",
    "    end\n",
    "    rand_bit = rand(1:2)-1\n",
    "    p_bit = calcBit(p)\n",
    "    while rand_bit != 1\n",
    "        rand_bit = rand(1:2)-1\n",
    "        p=(2*p)%1\n",
    "        p_bit = calcBit(p)\n",
    "    end\n",
    "    return p_bit\n",
    "end"
   ]
  },
  {
   "cell_type": "code",
   "execution_count": 51,
   "metadata": {},
   "outputs": [
    {
     "name": "stderr",
     "output_type": "stream",
     "text": [
      "WARNING: Method definition calculatePlausaibility(Any, Any, Any) in module Main at In[3]:4 overwritten at In[51]:4.\n"
     ]
    },
    {
     "data": {
      "text/plain": [
       "calculatePlausaibility (generic function with 1 method)"
      ]
     },
     "execution_count": 51,
     "metadata": {},
     "output_type": "execute_result"
    }
   ],
   "source": [
    "#Maybe there are other candidates for the plausibility \n",
    "\n",
    "function calculatePlausaibility(A,B,P)\n",
    "    return norm((A - ((P')*B*P))[:])\n",
    "end"
   ]
  },
  {
   "cell_type": "code",
   "execution_count": 4,
   "metadata": {},
   "outputs": [
    {
     "data": {
      "text/html": [
       "<div id=\"interact-js-shim\">\n",
       "    <script charset=\"utf-8\">\n",
       "(function (IPython, $, _, MathJax) {\n",
       "    $.event.special.destroyed = {\n",
       "\tremove: function(o) {\n",
       "\t    if (o.handler) {\n",
       "\t\to.handler.apply(this, arguments)\n",
       "\t    }\n",
       "\t}\n",
       "    }\n",
       "\n",
       "    var OutputArea = IPython.version >= \"4.0.0\" ? require(\"notebook/js/outputarea\").OutputArea : IPython.OutputArea;\n",
       "\n",
       "    var redrawValue = function (container, type, val) {\n",
       "\tvar selector = $(\"<div/>\");\n",
       "\tvar oa = new OutputArea(_.extend(selector, {\n",
       "\t    selector: selector,\n",
       "\t    prompt_area: true,\n",
       "\t    events: IPython.events,\n",
       "\t    keyboard_manager: IPython.keyboard_manager\n",
       "\t})); // Hack to work with IPython 2.1.0\n",
       "\n",
       "\tswitch (type) {\n",
       "\tcase \"image/png\":\n",
       "            var _src = 'data:' + type + ';base64,' + val;\n",
       "\t    $(container).find(\"img\").attr('src', _src);\n",
       "\t    break;\n",
       "\tcase \"text/latex\":\n",
       "\t\tif (MathJax){\n",
       "\t\t\tvar math = MathJax.Hub.getAllJax(container)[0];\n",
       "\t\t\tMathJax.Hub.Queue([\"Text\", math, val.replace(/^\\${1,2}|\\${1,2}$/g, '')]);\n",
       "\t\t\tbreak;\n",
       "\t\t}\n",
       "\tdefault:\n",
       "\t    var toinsert = OutputArea.append_map[type].apply(\n",
       "\t\toa, [val, {}, selector]\n",
       "\t    );\n",
       "\t    $(container).empty().append(toinsert.contents());\n",
       "\t    selector.remove();\n",
       "\t}\n",
       "    }\n",
       "\n",
       "\n",
       "    $(document).ready(function() {\n",
       "\tfunction initComm(evt, data) {\n",
       "\t    var comm_manager = data.kernel.comm_manager;\n",
       "        //_.extend(comm_manager.targets, require(\"widgets/js/widget\"))\n",
       "\t    comm_manager.register_target(\"Signal\", function (comm) {\n",
       "            comm.on_msg(function (msg) {\n",
       "                var val = msg.content.data.value;\n",
       "                $(\".signal-\" + comm.comm_id).each(function() {\n",
       "                var type = $(this).data(\"type\");\n",
       "                if (typeof(val[type]) !== \"undefined\" && val[type] !== null) {\n",
       "                    redrawValue(this, type, val[type], type);\n",
       "                }\n",
       "                });\n",
       "                delete val;\n",
       "                delete msg.content.data.value;\n",
       "            });\n",
       "\t    });\n",
       "\n",
       "\t    // coordingate with Comm and redraw Signals\n",
       "\t    // XXX: Test using Reactive here to improve performance\n",
       "\t    $([IPython.events]).on(\n",
       "\t\t'output_appended.OutputArea', function (event, type, value, md, toinsert) {\n",
       "\t\t    if (md && md.reactive) {\n",
       "                // console.log(md.comm_id);\n",
       "                toinsert.addClass(\"signal-\" + md.comm_id);\n",
       "                toinsert.data(\"type\", type);\n",
       "                // Signal back indicating the mimetype required\n",
       "                var comm_manager = IPython.notebook.kernel.comm_manager;\n",
       "                var comm = comm_manager.comms[md.comm_id];\n",
       "                comm.then(function (c) {\n",
       "                    c.send({action: \"subscribe_mime\",\n",
       "                       mime: type});\n",
       "                    toinsert.bind(\"destroyed\", function() {\n",
       "                        c.send({action: \"unsubscribe_mime\",\n",
       "                               mime: type});\n",
       "                    });\n",
       "                })\n",
       "\t\t    }\n",
       "\t    });\n",
       "\t}\n",
       "\n",
       "\ttry {\n",
       "\t    // try to initialize right away. otherwise, wait on the status_started event.\n",
       "\t    initComm(undefined, IPython.notebook);\n",
       "\t} catch (e) {\n",
       "\t    $([IPython.events]).on('kernel_created.Kernel kernel_created.Session', initComm);\n",
       "\t}\n",
       "    });\n",
       "})(IPython, jQuery, _, MathJax);\n",
       "</script>\n",
       "    <script>\n",
       "        window.interactLoadedFlag = true\n",
       "       $(\"#interact-js-shim\").bind(\"destroyed\", function () {\n",
       "           if (window.interactLoadedFlag) {\n",
       "               console.warn(\"JavaScript required by Interact will be removed if you remove this cell or run using Interact more than once.\")\n",
       "           }\n",
       "       })\n",
       "       $([IPython.events]).on(\"kernel_starting.Kernel kernel_restarting.Kernel\", function () { window.interactLoadedFlag = false })\n",
       "   </script>\n",
       "</div>"
      ]
     },
     "metadata": {},
     "output_type": "display_data"
    }
   ],
   "source": [
    "using Interact"
   ]
  },
  {
   "cell_type": "code",
   "execution_count": null,
   "metadata": {},
   "outputs": [],
   "source": [
    "\n",
    "\n",
    "@manipulate for n = [10,50,100, 200, 500, 1000]\n",
    "    A = rand(n,n)\n",
    "    I = eye(n)\n",
    "    p = randperm(n)\n",
    "    P = I[p,:]\n",
    "    B = P*A*(P')\n",
    "    \n",
    "    p_star = randperm(n)\n",
    "    P_star = I[p_star,:]\n",
    "    \n",
    "    println(calculatePlausaibility(A,B,P_star))\n",
    "end"
   ]
  },
  {
   "cell_type": "code",
   "execution_count": 5,
   "metadata": {},
   "outputs": [
    {
     "data": {
      "text/plain": [
       "randomTransposition (generic function with 1 method)"
      ]
     },
     "execution_count": 5,
     "metadata": {},
     "output_type": "execute_result"
    }
   ],
   "source": [
    "function randomTransposition(f)\n",
    "    m = length(f)\n",
    "    i = rand(1:m)\n",
    "    j = rand(1:m)\n",
    "    while j == i\n",
    "        j = rand(1:m)\n",
    "    end\n",
    "    \n",
    "    temp = f[i]\n",
    "    f[i] = f[j]\n",
    "    f[j] = temp\n",
    "    \n",
    "    return f\n",
    "end"
   ]
  },
  {
   "cell_type": "code",
   "execution_count": 6,
   "metadata": {},
   "outputs": [
    {
     "data": {
      "text/plain": [
       "graphIsomorphism (generic function with 1 method)"
      ]
     },
     "execution_count": 6,
     "metadata": {},
     "output_type": "execute_result"
    }
   ],
   "source": [
    "function graphIsomorphism(A,B, numb_steps)\n",
    "    n = size(A,1)\n",
    "    f = randperm(n)\n",
    "    \n",
    "    I = eye(n)\n",
    "    P = I[f,:]\n",
    "    \n",
    "    pl = calculatePlausaibility(A,B,P)\n",
    "    \n",
    "    min_pl = pl\n",
    "    min_f = Array{Int64,1}(length(f))\n",
    "    for j = 1:length(f)\n",
    "        min_f[j] = f[j]\n",
    "    end\n",
    "    \n",
    "    count = 0\n",
    "    while count < numb_steps\n",
    "        f_star = Array{Int64,1}(length(f))\n",
    "        for j = 1:length(f)\n",
    "            f_star[j] = f[j]\n",
    "        end\n",
    "        f_star = randomTransposition(f_star)\n",
    "        P_star = I[f_star,:]\n",
    "        pl_star = calculatePlausaibility(A,B,P_star)\n",
    "        \n",
    "        if pl_star == 0\n",
    "            count = 2*numb_steps\n",
    "            pl = pl_star\n",
    "            f = f_star\n",
    "        elseif pl_star < pl\n",
    "            pl = pl_star\n",
    "            f = f_star\n",
    "            count += 1\n",
    "        elseif flipCoin(pl/pl_star) == 1\n",
    "            pl = pl_star\n",
    "            f = f_star\n",
    "            count += 1\n",
    "        end\n",
    "        \n",
    "        if pl < min_pl\n",
    "            min_pl = pl\n",
    "            for j = 1:length(f)\n",
    "                min_f[j] = f[j]\n",
    "            end\n",
    "        end  \n",
    "    end\n",
    "    \n",
    "    P_min = I[min_f,:]\n",
    "    return (P_min, min_pl)\n",
    "    \n",
    "end"
   ]
  },
  {
   "cell_type": "code",
   "execution_count": 61,
   "metadata": {
    "scrolled": true
   },
   "outputs": [
    {
     "ename": "LoadError",
     "evalue": "InterruptException:",
     "output_type": "error",
     "traceback": [
      "InterruptException:",
      "",
      " in _elementwise(::Base.#-, ::Type{Float64}, ::Array{Float64,2}, ::Array{Float64,2}) at ./arraymath.jl:71",
      " in calculatePlausaibility(::Array{Float64,2}, ::Array{Float64,2}, ::Array{Float64,2}) at ./In[3]:4",
      " in graphIsomorphism(::Array{Float64,2}, ::Array{Float64,2}, ::Int64) at ./In[6]:24"
     ]
    }
   ],
   "source": [
    "n = 12\n",
    "A = rand((n,n))\n",
    "I = eye(n)\n",
    "p = randperm(n)\n",
    "P = I[p,:]\n",
    "B = P*A*(P')\n",
    "\n",
    "(P_star, pl) = graphIsomorphism(A,B,200000000)\n",
    "\n",
    "println(pl)\n",
    "println()\n",
    "println(norm((P-P_star)[:]))\n",
    "return P-P_star\n"
   ]
  },
  {
   "cell_type": "code",
   "execution_count": null,
   "metadata": {
    "collapsed": true
   },
   "outputs": [],
   "source": []
  },
  {
   "cell_type": "code",
   "execution_count": null,
   "metadata": {
    "collapsed": true
   },
   "outputs": [],
   "source": []
  }
 ],
 "metadata": {
  "kernelspec": {
   "display_name": "Julia 0.5.1",
   "language": "julia",
   "name": "julia-0.5"
  },
  "language_info": {
   "file_extension": ".jl",
   "mimetype": "application/julia",
   "name": "julia",
   "version": "0.5.1"
  }
 },
 "nbformat": 4,
 "nbformat_minor": 2
}
